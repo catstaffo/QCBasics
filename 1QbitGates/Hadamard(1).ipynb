{
 "cells": [
  {
   "cell_type": "code",
   "execution_count": 1,
   "id": "a6ada4dd-c27d-4cdd-98b9-eb3948138feb",
   "metadata": {},
   "outputs": [
    {
     "name": "stderr",
     "output_type": "stream",
     "text": [
      "<frozen importlib._bootstrap>:219: RuntimeWarning: scipy._lib.messagestream.MessageStream size changed, may indicate binary incompatibility. Expected 56 from C header, got 64 from PyObject\n"
     ]
    }
   ],
   "source": [
    "import numpy as np\n",
    "\n",
    "# Importing standard Qiskit libraries\n",
    "from qiskit import *\n",
    "from qiskit import QuantumCircuit, transpile, Aer, IBMQ\n",
    "from qiskit.tools.jupyter import *\n",
    "from qiskit.visualization import *\n",
    "from ibm_quantum_widgets import *\n",
    "from qiskit.providers.aer import QasmSimulator\n",
    "\n",
    "# Loading your IBM Quantum account(s)\n",
    "provider = IBMQ.load_account()"
   ]
  },
  {
   "cell_type": "code",
   "execution_count": 2,
   "id": "67daec3a-b385-49c6-85ae-3aeaa035d755",
   "metadata": {},
   "outputs": [],
   "source": [
    "qc = QuantumCircuit(1)"
   ]
  },
  {
   "cell_type": "code",
   "execution_count": 3,
   "id": "c5ad4205-30d5-4e6a-a2df-aea0abacfce6",
   "metadata": {},
   "outputs": [
    {
     "name": "stdout",
     "output_type": "stream",
     "text": [
      "Traceback \u001b[1;36m(most recent call last)\u001b[0m:\n",
      "\u001b[1;36m  File \u001b[1;32m/opt/conda/lib/python3.8/site-packages/IPython/core/compilerop.py:105\u001b[1;36m in \u001b[1;35mast_parse\u001b[1;36m\u001b[0m\n",
      "\u001b[1;33m    return compile(source, filename, symbol, self.flags | PyCF_ONLY_AST, 1)\u001b[0m\n",
      "\u001b[1;36m  Input \u001b[1;32mIn [3]\u001b[1;36m\u001b[0m\n",
      "\u001b[1;33m    qc.x(0)\u001b[0m\n",
      "\u001b[1;37m    ^\u001b[0m\n",
      "\u001b[1;31mIndentationError\u001b[0m\u001b[1;31m:\u001b[0m unexpected indent\n",
      "\n",
      "Use %tb to get the full traceback.\n"
     ]
    },
    {
     "data": {
      "text/html": [
       "\n",
       "<style>\n",
       ".button {\n",
       "  border: none;\n",
       "  color: white;\n",
       "  padding: 4px 8px;\n",
       "  text-align: center;\n",
       "  text-decoration: none;\n",
       "  display: inline-block;\n",
       "  font-size: 12px;\n",
       "  margin: 4px 2px;\n",
       "  transition-duration: 0.2s;\n",
       "  cursor: pointer;\n",
       "}\n",
       ".iqx-button {\n",
       "  background-color: #0f62fe; \n",
       "  color: white; \n",
       "}\n",
       ".iqx-button:hover {\n",
       "  background-color: #0043ce;\n",
       "  color: white;\n",
       "}\n",
       "</style>\n",
       "<a href=\"https://stackoverflow.com/search?q=IndentationError: unexpected indent\" target='_blank'><button class='button iqx-button'>Search for solution online</button></a>\n"
      ],
      "text/plain": [
       "<IPython.core.display.HTML object>"
      ]
     },
     "metadata": {},
     "output_type": "display_data"
    }
   ],
   "source": [
    "# applying x-gate to make |1> and see what happens vs when input is |0>\n",
    " qc.x(0)"
   ]
  },
  {
   "cell_type": "code",
   "execution_count": null,
   "id": "4c53122b-e7e2-4d88-b8e9-8f18d231c108",
   "metadata": {},
   "outputs": [],
   "source": [
    "# apply hadamard on qbit\n",
    "qc.h(0)"
   ]
  },
  {
   "cell_type": "code",
   "execution_count": null,
   "id": "db8e9364-82b5-4f79-a1f9-99d2a5bebb37",
   "metadata": {},
   "outputs": [],
   "source": [
    "qc.draw('mpl')"
   ]
  },
  {
   "cell_type": "code",
   "execution_count": null,
   "id": "8efd2d3d-53aa-4625-b198-0f81a5f5762a",
   "metadata": {},
   "outputs": [],
   "source": [
    "simulator = Aer.get_backend('statevector_simulator')\n",
    "result = execute(qc,simulator).result().get_statevector()"
   ]
  },
  {
   "cell_type": "code",
   "execution_count": null,
   "id": "23ef62fd-f310-4285-a461-ac8e8ef36fea",
   "metadata": {},
   "outputs": [],
   "source": [
    "plot_bloch_multivector(result)"
   ]
  },
  {
   "cell_type": "code",
   "execution_count": null,
   "id": "815de88f-512b-447c-8cd2-4c889921e490",
   "metadata": {},
   "outputs": [],
   "source": [
    "visualize_transition(qc)"
   ]
  },
  {
   "cell_type": "code",
   "execution_count": null,
   "id": "0e3a5fd2-ef9e-4b32-9527-95a1ed766b11",
   "metadata": {},
   "outputs": [],
   "source": []
  }
 ],
 "metadata": {
  "kernelspec": {
   "display_name": "Python 3 (ipykernel)",
   "language": "python",
   "name": "python3"
  },
  "language_info": {
   "codemirror_mode": {
    "name": "ipython",
    "version": 3
   },
   "file_extension": ".py",
   "mimetype": "text/x-python",
   "name": "python",
   "nbconvert_exporter": "python",
   "pygments_lexer": "ipython3",
   "version": "3.8.13"
  },
  "widgets": {
   "application/vnd.jupyter.widget-state+json": {
    "state": {
     "003c8dcd76c843998164a99eade50754": {
      "model_module": "@jupyter-widgets/controls",
      "model_module_version": "1.5.0",
      "model_name": "HTMLModel",
      "state": {
       "layout": "IPY_MODEL_1a43ab1f3b6f4e80b58c6121dd2822e2",
       "style": "IPY_MODEL_af6e7586219249cabf027897b6738456",
       "value": "<h5>Status</h5>"
      }
     },
     "13d743d601be4bcb8bdfe7443685bdc3": {
      "model_module": "@jupyter-widgets/base",
      "model_module_version": "1.2.0",
      "model_name": "LayoutModel",
      "state": {
       "width": "190px"
      }
     },
     "1a43ab1f3b6f4e80b58c6121dd2822e2": {
      "model_module": "@jupyter-widgets/base",
      "model_module_version": "1.2.0",
      "model_name": "LayoutModel",
      "state": {
       "width": "95px"
      }
     },
     "20ab2a43b89d41869233858cea6c6939": {
      "model_module": "@jupyter-widgets/controls",
      "model_module_version": "1.5.0",
      "model_name": "HTMLModel",
      "state": {
       "layout": "IPY_MODEL_13d743d601be4bcb8bdfe7443685bdc3",
       "style": "IPY_MODEL_a130073f6b494a33a56eabda3950337f",
       "value": "<h5>Job ID</h5>"
      }
     },
     "2dad31275b354e74a947257e72bedc6a": {
      "model_module": "@jupyter-widgets/controls",
      "model_module_version": "1.5.0",
      "model_name": "HTMLModel",
      "state": {
       "layout": "IPY_MODEL_af71e6f56d184239a33447982ef61398",
       "style": "IPY_MODEL_ee1d1e5f49c54b0a9cb605f1d1a06308",
       "value": "<h5>Message</h5>"
      }
     },
     "432bc22f37b74880a6579fa6e25afb5e": {
      "model_module": "@jupyter-widgets/controls",
      "model_module_version": "1.5.0",
      "model_name": "HBoxModel",
      "state": {
       "children": [
        "IPY_MODEL_20ab2a43b89d41869233858cea6c6939",
        "IPY_MODEL_de97852f21b74faa9b9fbb3a7fe9d2fd",
        "IPY_MODEL_003c8dcd76c843998164a99eade50754",
        "IPY_MODEL_ea410c8241df4794939a3f330b2cd9e3",
        "IPY_MODEL_2dad31275b354e74a947257e72bedc6a"
       ],
       "layout": "IPY_MODEL_93090b6a411f4a02a60c041bf27f1004"
      }
     },
     "49005f8af47c406987e56f431fd12d79": {
      "model_module": "@jupyter-widgets/controls",
      "model_module_version": "1.5.0",
      "model_name": "HTMLModel",
      "state": {
       "layout": "IPY_MODEL_b5c8bdf645524d3699d53c56f79d02a6",
       "style": "IPY_MODEL_fda87669de4a4faeb9c5853696400e7f",
       "value": "<p style='font-family: IBM Plex Sans, Arial, Helvetica, sans-serif; font-size: 20px; font-weight: medium;'>Circuit Properties</p>"
      }
     },
     "64a0932f918645c6bf1fc7819a034767": {
      "model_module": "@jupyter-widgets/controls",
      "model_module_version": "1.5.0",
      "model_name": "ButtonModel",
      "state": {
       "button_style": "primary",
       "description": "Clear",
       "layout": "IPY_MODEL_976cb2ec30ec4c809046cd679115ce7a",
       "style": "IPY_MODEL_fd30faf5ac5e461591835488a2c7122c"
      }
     },
     "6f10126d498e4b738a32590f47b7be56": {
      "model_module": "@jupyter-widgets/controls",
      "model_module_version": "1.5.0",
      "model_name": "DescriptionStyleModel",
      "state": {
       "description_width": ""
      }
     },
     "8a8c0ae39b7d49069c8d690e27293760": {
      "model_module": "@jupyter-widgets/base",
      "model_module_version": "1.2.0",
      "model_name": "LayoutModel",
      "state": {
       "grid_template_areas": "\n                                       \". . . . right \"\n                                        ",
       "grid_template_columns": "20% 20% 20% 20% 20%",
       "width": "100%"
      }
     },
     "93090b6a411f4a02a60c041bf27f1004": {
      "model_module": "@jupyter-widgets/base",
      "model_module_version": "1.2.0",
      "model_name": "LayoutModel",
      "state": {
       "margin": "0px 0px 0px 37px",
       "width": "600px"
      }
     },
     "976cb2ec30ec4c809046cd679115ce7a": {
      "model_module": "@jupyter-widgets/base",
      "model_module_version": "1.2.0",
      "model_name": "LayoutModel",
      "state": {
       "grid_area": "right",
       "padding": "0px 0px 0px 0px",
       "width": "70px"
      }
     },
     "a130073f6b494a33a56eabda3950337f": {
      "model_module": "@jupyter-widgets/controls",
      "model_module_version": "1.5.0",
      "model_name": "DescriptionStyleModel",
      "state": {
       "description_width": ""
      }
     },
     "af6e7586219249cabf027897b6738456": {
      "model_module": "@jupyter-widgets/controls",
      "model_module_version": "1.5.0",
      "model_name": "DescriptionStyleModel",
      "state": {
       "description_width": ""
      }
     },
     "af71e6f56d184239a33447982ef61398": {
      "model_module": "@jupyter-widgets/base",
      "model_module_version": "1.2.0",
      "model_name": "LayoutModel",
      "state": {}
     },
     "b5c8bdf645524d3699d53c56f79d02a6": {
      "model_module": "@jupyter-widgets/base",
      "model_module_version": "1.2.0",
      "model_name": "LayoutModel",
      "state": {
       "margin": "0px 0px 10px 0px"
      }
     },
     "cb1d782f24fb43a5a051d974d31b1bd3": {
      "model_module": "@jupyter-widgets/base",
      "model_module_version": "1.2.0",
      "model_name": "LayoutModel",
      "state": {
       "width": "145px"
      }
     },
     "d60491d9c8464f6681d38951de92e931": {
      "model_module": "@jupyter-widgets/base",
      "model_module_version": "1.2.0",
      "model_name": "LayoutModel",
      "state": {
       "width": "70px"
      }
     },
     "de97852f21b74faa9b9fbb3a7fe9d2fd": {
      "model_module": "@jupyter-widgets/controls",
      "model_module_version": "1.5.0",
      "model_name": "HTMLModel",
      "state": {
       "layout": "IPY_MODEL_cb1d782f24fb43a5a051d974d31b1bd3",
       "style": "IPY_MODEL_e32e82ef07044aa7a5f6a13c9d452337",
       "value": "<h5>Backend</h5>"
      }
     },
     "e32e82ef07044aa7a5f6a13c9d452337": {
      "model_module": "@jupyter-widgets/controls",
      "model_module_version": "1.5.0",
      "model_name": "DescriptionStyleModel",
      "state": {
       "description_width": ""
      }
     },
     "ea410c8241df4794939a3f330b2cd9e3": {
      "model_module": "@jupyter-widgets/controls",
      "model_module_version": "1.5.0",
      "model_name": "HTMLModel",
      "state": {
       "layout": "IPY_MODEL_d60491d9c8464f6681d38951de92e931",
       "style": "IPY_MODEL_6f10126d498e4b738a32590f47b7be56",
       "value": "<h5>Queue</h5>"
      }
     },
     "ee1d1e5f49c54b0a9cb605f1d1a06308": {
      "model_module": "@jupyter-widgets/controls",
      "model_module_version": "1.5.0",
      "model_name": "DescriptionStyleModel",
      "state": {
       "description_width": ""
      }
     },
     "f2503ed7040544c29362e24c37897b61": {
      "model_module": "@jupyter-widgets/controls",
      "model_module_version": "1.5.0",
      "model_name": "GridBoxModel",
      "state": {
       "children": [
        "IPY_MODEL_64a0932f918645c6bf1fc7819a034767"
       ],
       "layout": "IPY_MODEL_8a8c0ae39b7d49069c8d690e27293760"
      }
     },
     "fd30faf5ac5e461591835488a2c7122c": {
      "model_module": "@jupyter-widgets/controls",
      "model_module_version": "1.5.0",
      "model_name": "ButtonStyleModel",
      "state": {}
     },
     "fda87669de4a4faeb9c5853696400e7f": {
      "model_module": "@jupyter-widgets/controls",
      "model_module_version": "1.5.0",
      "model_name": "DescriptionStyleModel",
      "state": {
       "description_width": ""
      }
     }
    },
    "version_major": 2,
    "version_minor": 0
   }
  }
 },
 "nbformat": 4,
 "nbformat_minor": 5
}
